{
 "cells": [
  {
   "cell_type": "markdown",
   "metadata": {},
   "source": [
    "## Wrapper function"
   ]
  },
  {
   "cell_type": "code",
   "execution_count": 179,
   "metadata": {
    "collapsed": true
   },
   "outputs": [],
   "source": [
    "### process for modeling\n",
    "def model_process(df, df_tr, num_col=[]):\n",
    "    \n",
    "    ### Donation cycle\n",
    "    df['Donation_cycle'] = df['Number of Donations']/df['Months since First Donation']\n",
    "    df_tr['Donation_cycle'] = df_tr['Number of Donations']/df_tr['Months since First Donation']\n",
    "    \n",
    "    ### Donation period\n",
    "    df['Donation_period'] = df['Months since First Donation'] - df['Months since Last Donation']\n",
    "    df_tr['Donation_period'] = df_tr['Months since First Donation'] - df_tr['Months since Last Donation']\n",
    "    \n",
    "    ###\n",
    "    X = df.ix[:, num_col]\n",
    "    X = pd.concat([X, df['Donation_cycle']], axis=1)\n",
    "    X = pd.concat([X, df['Donation_period']], axis=1)\n",
    "    col = list(X.columns)\n",
    "    \n",
    "    X_tr = df_tr.ix[:, num_col]\n",
    "    X_tr = pd.concat([X_tr, df_tr['Donation_cycle']], axis=1)\n",
    "    X_tr = pd.concat([X_tr, df_tr['Donation_period']], axis=1)\n",
    "    \n",
    "    ### Normalization\n",
    "    from sklearn.preprocessing import StandardScaler\n",
    "    scaler = StandardScaler()\n",
    "    scaler.fit(X_tr)\n",
    "    X = scaler.transform(X)\n",
    "    X = pd.DataFrame(X, columns=col)\n",
    "    \n",
    "    y = df['Made Donation in March 2007']\n",
    "    \n",
    "    return X, y"
   ]
  },
  {
   "cell_type": "markdown",
   "metadata": {},
   "source": [
    "## Setup"
   ]
  },
  {
   "cell_type": "code",
   "execution_count": 2,
   "metadata": {
    "collapsed": false
   },
   "outputs": [
    {
     "data": {
      "text/html": [
       "<script>requirejs.config({paths: { 'plotly': ['https://cdn.plot.ly/plotly-latest.min']},});if(!window.Plotly) {{require(['plotly'],function(plotly) {window.Plotly=plotly;});}}</script>"
      ],
      "text/plain": [
       "<IPython.core.display.HTML object>"
      ]
     },
     "metadata": {},
     "output_type": "display_data"
    }
   ],
   "source": [
    "### Load required packages \n",
    "import numpy as np \n",
    "import pandas as pd \n",
    "import scipy as sp\n",
    "import matplotlib.pyplot as plt \n",
    "%matplotlib inline \n",
    "import seaborn as sns\n",
    "\n",
    "import plotly as py\n",
    "import plotly.graph_objs as go\n",
    "py.offline.init_notebook_mode(connected=True) \n",
    "import warnings\n",
    "warnings.filterwarnings('ignore')"
   ]
  },
  {
   "cell_type": "code",
   "execution_count": 3,
   "metadata": {
    "collapsed": false
   },
   "outputs": [
    {
     "name": "stdout",
     "output_type": "stream",
     "text": [
      "(576, 6)\n"
     ]
    }
   ],
   "source": [
    "### Load the dataset\n",
    "df = pd.read_csv('D:/Dataset/Side_project_Predict_blood_donations/train.csv')\n",
    "print(df.shape)"
   ]
  },
  {
   "cell_type": "code",
   "execution_count": 4,
   "metadata": {
    "collapsed": false
   },
   "outputs": [
    {
     "name": "stdout",
     "output_type": "stream",
     "text": [
      "   Unnamed: 0  Months since Last Donation  Number of Donations  \\\n",
      "0         619                           2                   50   \n",
      "1         664                           0                   13   \n",
      "2         441                           1                   16   \n",
      "3         160                           2                   20   \n",
      "4         358                           1                   24   \n",
      "\n",
      "   Total Volume Donated (c.c.)  Months since First Donation  \\\n",
      "0                        12500                           98   \n",
      "1                         3250                           28   \n",
      "2                         4000                           35   \n",
      "3                         5000                           45   \n",
      "4                         6000                           77   \n",
      "\n",
      "   Made Donation in March 2007  \n",
      "0                            1  \n",
      "1                            1  \n",
      "2                            1  \n",
      "3                            1  \n",
      "4                            0  \n"
     ]
    }
   ],
   "source": [
    "print(df.head())"
   ]
  },
  {
   "cell_type": "code",
   "execution_count": 5,
   "metadata": {
    "collapsed": false
   },
   "outputs": [
    {
     "name": "stdout",
     "output_type": "stream",
     "text": [
      "<class 'pandas.core.frame.DataFrame'>\n",
      "RangeIndex: 576 entries, 0 to 575\n",
      "Data columns (total 6 columns):\n",
      "Unnamed: 0                     576 non-null int64\n",
      "Months since Last Donation     576 non-null int64\n",
      "Number of Donations            576 non-null int64\n",
      "Total Volume Donated (c.c.)    576 non-null int64\n",
      "Months since First Donation    576 non-null int64\n",
      "Made Donation in March 2007    576 non-null int64\n",
      "dtypes: int64(6)\n",
      "memory usage: 27.1 KB\n",
      "None\n"
     ]
    }
   ],
   "source": [
    "### NAs\n",
    "print(df.info())"
   ]
  },
  {
   "cell_type": "code",
   "execution_count": 6,
   "metadata": {
    "collapsed": false
   },
   "outputs": [
    {
     "name": "stdout",
     "output_type": "stream",
     "text": [
      "0    438\n",
      "1    138\n",
      "Name: Made Donation in March 2007, dtype: int64\n",
      "\n",
      "\n",
      "0    0.760417\n",
      "1    0.239583\n",
      "Name: Made Donation in March 2007, dtype: float64\n"
     ]
    }
   ],
   "source": [
    "### Label distribution\n",
    "print(df['Made Donation in March 2007'].value_counts())\n",
    "\n",
    "print('\\n')\n",
    "print(df['Made Donation in March 2007'].value_counts()/len(df))"
   ]
  },
  {
   "cell_type": "code",
   "execution_count": 7,
   "metadata": {
    "collapsed": true
   },
   "outputs": [],
   "source": [
    "### split the dataset to training set and test set\n",
    "from sklearn.model_selection import train_test_split\n",
    "\n",
    "seed = 100\n",
    "np.random.seed(seed)\n",
    "\n",
    "df_tr, df_test = train_test_split(df, test_size=0.2, stratify=df['Made Donation in March 2007'], random_state=seed)"
   ]
  },
  {
   "cell_type": "code",
   "execution_count": 8,
   "metadata": {
    "collapsed": false
   },
   "outputs": [
    {
     "name": "stdout",
     "output_type": "stream",
     "text": [
      "(460, 6)\n",
      "0    0.76087\n",
      "1    0.23913\n",
      "Name: Made Donation in March 2007, dtype: float64\n"
     ]
    }
   ],
   "source": [
    "print(df_tr.shape)\n",
    "\n",
    "print(df_tr['Made Donation in March 2007'].value_counts()/len(df_tr))"
   ]
  },
  {
   "cell_type": "code",
   "execution_count": 9,
   "metadata": {
    "collapsed": true
   },
   "outputs": [],
   "source": [
    "df_tr.index = range(len(df_tr))\n",
    "df_test.index = range(len(df_test))"
   ]
  },
  {
   "cell_type": "markdown",
   "metadata": {},
   "source": [
    "## EDA"
   ]
  },
  {
   "cell_type": "code",
   "execution_count": 10,
   "metadata": {
    "collapsed": false
   },
   "outputs": [
    {
     "name": "stdout",
     "output_type": "stream",
     "text": [
      "['Months since Last Donation', 'Number of Donations', 'Total Volume Donated (c.c.)', 'Months since First Donation']\n"
     ]
    }
   ],
   "source": [
    "num_col = list(df.columns)[1:-1]\n",
    "print(num_col)"
   ]
  },
  {
   "cell_type": "code",
   "execution_count": 11,
   "metadata": {
    "collapsed": false
   },
   "outputs": [
    {
     "data": {
      "image/png": "[encoded data removed]",
      "text/plain": [
       "<matplotlib.figure.Figure at 0x1f9ded81080>"
      ]
     },
     "metadata": {},
     "output_type": "display_data"
    }
   ],
   "source": [
    "\n",
    "fig = plt.figure(figsize=[10, 10])\n",
    "plt.suptitle('Distribution of Numerical Variables by Making Donation or Not', y=0.95)\n",
    "for ind, col in enumerate(num_col, start=1):\n",
    "    axes = fig.add_subplot(2, 2, ind)\n",
    "    sns.boxplot(x=df_tr['Made Donation in March 2007'], y=df_tr[col])\n",
    "    #axes.set_title(col, fontsize=12)"
   ]
  },
  {
   "cell_type": "markdown",
   "metadata": {},
   "source": [
    "#### Average volume of donation"
   ]
  },
  {
   "cell_type": "code",
   "execution_count": 12,
   "metadata": {
    "collapsed": true
   },
   "outputs": [],
   "source": [
    "df_tr['Avg_vol_of_donation'] = df_tr['Total Volume Donated (c.c.)']/df_tr['Number of Donations']"
   ]
  },
  {
   "cell_type": "code",
   "execution_count": 13,
   "metadata": {
    "collapsed": false
   },
   "outputs": [
    {
     "data": {
      "text/plain": [
       "count    460.0\n",
       "mean     250.0\n",
       "std        0.0\n",
       "min      250.0\n",
       "25%      250.0\n",
       "50%      250.0\n",
       "75%      250.0\n",
       "max      250.0\n",
       "Name: Avg_vol_of_donation, dtype: float64"
      ]
     },
     "execution_count": 13,
     "metadata": {},
     "output_type": "execute_result"
    }
   ],
   "source": [
    "df_tr['Avg_vol_of_donation'].describe()"
   ]
  },
  {
   "cell_type": "code",
   "execution_count": 14,
   "metadata": {
    "collapsed": false
   },
   "outputs": [
    {
     "data": {
      "text/plain": [
       "<matplotlib.axes._subplots.AxesSubplot at 0x1f9def08358>"
      ]
     },
     "execution_count": 14,
     "metadata": {},
     "output_type": "execute_result"
    },
    {
     "data": {
      "image/png": "[encoded data removed]",
      "text/plain": [
       "<matplotlib.figure.Figure at 0x1f9df3a5550>"
      ]
     },
     "metadata": {},
     "output_type": "display_data"
    }
   ],
   "source": [
    "sns.boxplot(x=df_tr['Made Donation in March 2007'], y=df_tr['Avg_vol_of_donation'])"
   ]
  },
  {
   "cell_type": "markdown",
   "metadata": {},
   "source": [
    "This feature is of no use."
   ]
  },
  {
   "cell_type": "markdown",
   "metadata": {},
   "source": [
    "#### Donation cycle"
   ]
  },
  {
   "cell_type": "code",
   "execution_count": 15,
   "metadata": {
    "collapsed": true
   },
   "outputs": [],
   "source": [
    "df_tr['Donation_cycle'] = df_tr['Number of Donations']/df_tr['Months since First Donation']"
   ]
  },
  {
   "cell_type": "code",
   "execution_count": 16,
   "metadata": {
    "collapsed": false
   },
   "outputs": [
    {
     "data": {
      "text/plain": [
       "count    460.000000\n",
       "mean       0.200328\n",
       "std        0.159270\n",
       "min        0.013889\n",
       "25%        0.086957\n",
       "50%        0.147214\n",
       "75%        0.250000\n",
       "max        1.000000\n",
       "Name: Donation_cycle, dtype: float64"
      ]
     },
     "execution_count": 16,
     "metadata": {},
     "output_type": "execute_result"
    }
   ],
   "source": [
    "df_tr['Donation_cycle'].describe()"
   ]
  },
  {
   "cell_type": "code",
   "execution_count": 17,
   "metadata": {
    "collapsed": false
   },
   "outputs": [
    {
     "data": {
      "text/plain": [
       "<matplotlib.axes._subplots.AxesSubplot at 0x1f9df3c3cf8>"
      ]
     },
     "execution_count": 17,
     "metadata": {},
     "output_type": "execute_result"
    },
    {
     "data": {
      "image/png": "[encoded data removed]",
      "text/plain": [
       "<matplotlib.figure.Figure at 0x1f9def971d0>"
      ]
     },
     "metadata": {},
     "output_type": "display_data"
    }
   ],
   "source": [
    "sns.boxplot(x=df_tr['Made Donation in March 2007'], y=df_tr['Donation_cycle'])"
   ]
  },
  {
   "cell_type": "markdown",
   "metadata": {},
   "source": [
    "#### Donation Period"
   ]
  },
  {
   "cell_type": "code",
   "execution_count": 18,
   "metadata": {
    "collapsed": false
   },
   "outputs": [],
   "source": [
    "df_tr['Donation_period'] = df_tr['Months since First Donation'] - df_tr['Months since Last Donation']"
   ]
  },
  {
   "cell_type": "code",
   "execution_count": 19,
   "metadata": {
    "collapsed": false
   },
   "outputs": [
    {
     "data": {
      "text/plain": [
       "count    460.000000\n",
       "mean      24.515217\n",
       "std       24.461472\n",
       "min        0.000000\n",
       "25%        0.000000\n",
       "50%       19.000000\n",
       "75%       40.250000\n",
       "max       96.000000\n",
       "Name: Donation_period, dtype: float64"
      ]
     },
     "execution_count": 19,
     "metadata": {},
     "output_type": "execute_result"
    }
   ],
   "source": [
    "df_tr['Donation_period'].describe()"
   ]
  },
  {
   "cell_type": "code",
   "execution_count": 20,
   "metadata": {
    "collapsed": false
   },
   "outputs": [
    {
     "data": {
      "text/plain": [
       "<matplotlib.axes._subplots.AxesSubplot at 0x1f9defa5588>"
      ]
     },
     "execution_count": 20,
     "metadata": {},
     "output_type": "execute_result"
    },
    {
     "data": {
      "image/png": "[encoded data removed]",
      "text/plain": [
       "<matplotlib.figure.Figure at 0x1f9defeba90>"
      ]
     },
     "metadata": {},
     "output_type": "display_data"
    }
   ],
   "source": [
    "sns.boxplot(x=df_tr['Made Donation in March 2007'], y=df_tr['Donation_period'])"
   ]
  },
  {
   "cell_type": "markdown",
   "metadata": {},
   "source": [
    "## Modeling"
   ]
  },
  {
   "cell_type": "markdown",
   "metadata": {},
   "source": [
    "#### Using raw data (without normalization)"
   ]
  },
  {
   "cell_type": "code",
   "execution_count": 143,
   "metadata": {
    "collapsed": false
   },
   "outputs": [
    {
     "name": "stdout",
     "output_type": "stream",
     "text": [
      "['Months since Last Donation', 'Number of Donations', 'Total Volume Donated (c.c.)', 'Months since First Donation']\n"
     ]
    }
   ],
   "source": [
    "num_col = list(df.columns)[1:-1]\n",
    "print(num_col)"
   ]
  },
  {
   "cell_type": "code",
   "execution_count": 144,
   "metadata": {
    "collapsed": true
   },
   "outputs": [],
   "source": [
    "num_col.remove('Number of Donations')"
   ]
  },
  {
   "cell_type": "code",
   "execution_count": 145,
   "metadata": {
    "collapsed": false
   },
   "outputs": [
    {
     "data": {
      "text/plain": [
       "['Months since Last Donation',\n",
       " 'Total Volume Donated (c.c.)',\n",
       " 'Months since First Donation']"
      ]
     },
     "execution_count": 145,
     "metadata": {},
     "output_type": "execute_result"
    }
   ],
   "source": [
    "num_col"
   ]
  },
  {
   "cell_type": "code",
   "execution_count": 146,
   "metadata": {
    "collapsed": false
   },
   "outputs": [],
   "source": [
    "X, y = model_process(df_tr, df_tr, num_col)"
   ]
  },
  {
   "cell_type": "code",
   "execution_count": 147,
   "metadata": {
    "collapsed": false
   },
   "outputs": [
    {
     "name": "stdout",
     "output_type": "stream",
     "text": [
      "(460, 5)\n"
     ]
    }
   ],
   "source": [
    "print(X.shape)"
   ]
  },
  {
   "cell_type": "code",
   "execution_count": 148,
   "metadata": {
    "collapsed": false
   },
   "outputs": [],
   "source": [
    "X = X.values\n",
    "y = y.values"
   ]
  },
  {
   "cell_type": "markdown",
   "metadata": {},
   "source": [
    "#### Check the importance of features"
   ]
  },
  {
   "cell_type": "code",
   "execution_count": 149,
   "metadata": {
    "collapsed": false
   },
   "outputs": [
    {
     "data": {
      "text/plain": [
       "RandomForestClassifier(bootstrap=True, class_weight=None, criterion='gini',\n",
       "            max_depth=None, max_features='auto', max_leaf_nodes=None,\n",
       "            min_impurity_split=1e-07, min_samples_leaf=1,\n",
       "            min_samples_split=2, min_weight_fraction_leaf=0.0,\n",
       "            n_estimators=500, n_jobs=1, oob_score=False, random_state=None,\n",
       "            verbose=0, warm_start=False)"
      ]
     },
     "execution_count": 149,
     "metadata": {},
     "output_type": "execute_result"
    }
   ],
   "source": [
    "from sklearn.ensemble import RandomForestClassifier\n",
    "\n",
    "model = RandomForestClassifier(n_estimators=500)\n",
    "model.fit(X, y)"
   ]
  },
  {
   "cell_type": "code",
   "execution_count": 151,
   "metadata": {
    "collapsed": false
   },
   "outputs": [],
   "source": [
    "X_check, _ = model_process(df_tr, df_tr, num_col)"
   ]
  },
  {
   "cell_type": "code",
   "execution_count": 152,
   "metadata": {
    "collapsed": false
   },
   "outputs": [],
   "source": [
    "feature_list = list(X_check.columns)"
   ]
  },
  {
   "cell_type": "code",
   "execution_count": 153,
   "metadata": {
    "collapsed": false
   },
   "outputs": [
    {
     "name": "stdout",
     "output_type": "stream",
     "text": [
      "Donation_cycle :   0.297001840798\n",
      "Donation_period :   0.192387575593\n",
      "Months since Last Donation :   0.179073954667\n",
      "Total Volume Donated (c.c.) :   0.166324705683\n",
      "Months since First Donation :   0.165211923258\n"
     ]
    }
   ],
   "source": [
    "ind = np.argsort(np.array(model.feature_importances_))\n",
    "\n",
    "for i in range(len(ind)):\n",
    "    print(np.array(feature_list)[ind][::-1][i], ':  ', np.array(model.feature_importances_)[ind][::-1][i])"
   ]
  },
  {
   "cell_type": "markdown",
   "metadata": {},
   "source": [
    "### Test modeling"
   ]
  },
  {
   "cell_type": "markdown",
   "metadata": {},
   "source": [
    "#### Logistic regression"
   ]
  },
  {
   "cell_type": "code",
   "execution_count": 154,
   "metadata": {
    "collapsed": false
   },
   "outputs": [
    {
     "name": "stdout",
     "output_type": "stream",
     "text": [
      "0.523762966386\n",
      "0.517617047516\n",
      "0.430724132974\n",
      "0.47085560502\n",
      "0.496096006168\n"
     ]
    }
   ],
   "source": [
    "from sklearn.linear_model import LogisticRegression\n",
    "from sklearn.model_selection import KFold\n",
    "from sklearn.metrics import log_loss\n",
    "\n",
    "kf = KFold(5, random_state=seed, shuffle=True)\n",
    "\n",
    "for fold in kf.split(X):\n",
    "    model = LogisticRegression()\n",
    "    model.fit(X[fold[0]], y[fold[0]])\n",
    "    print(log_loss(y[fold[1]], model.predict_proba(X[fold[1]])[:, 1]))"
   ]
  },
  {
   "cell_type": "code",
   "execution_count": 155,
   "metadata": {
    "collapsed": false
   },
   "outputs": [
    {
     "name": "stdout",
     "output_type": "stream",
     "text": [
      "0.525887514044\n",
      "0.518148678126\n",
      "0.441959733737\n",
      "0.469828785955\n",
      "0.495674816715\n"
     ]
    }
   ],
   "source": [
    "from sklearn.linear_model import LogisticRegressionCV\n",
    "from sklearn.model_selection import KFold\n",
    "from sklearn.metrics import log_loss\n",
    "\n",
    "kf = KFold(5, random_state=seed, shuffle=True)\n",
    "\n",
    "for fold in kf.split(X):\n",
    "    model = LogisticRegressionCV()\n",
    "    model.fit(X[fold[0]], y[fold[0]])\n",
    "    print(log_loss(y[fold[1]], model.predict_proba(X[fold[1]])[:, 1]))"
   ]
  },
  {
   "cell_type": "markdown",
   "metadata": {},
   "source": [
    "#### SVM"
   ]
  },
  {
   "cell_type": "code",
   "execution_count": 156,
   "metadata": {
    "collapsed": false
   },
   "outputs": [
    {
     "name": "stdout",
     "output_type": "stream",
     "text": [
      "0.512981602661\n",
      "0.50957258603\n",
      "0.467260626896\n",
      "0.493680709939\n",
      "0.562346642137\n"
     ]
    }
   ],
   "source": [
    "from sklearn.svm import SVC\n",
    "from sklearn.model_selection import KFold\n",
    "from sklearn.metrics import log_loss\n",
    "\n",
    "kf = KFold(5, random_state=seed, shuffle=True)\n",
    "\n",
    "for fold in kf.split(X):\n",
    "    model = SVC(probability=True)\n",
    "    model.fit(X[fold[0]], y[fold[0]])\n",
    "    print(log_loss(y[fold[1]], model.predict_proba(X[fold[1]])[:, 1]))"
   ]
  },
  {
   "cell_type": "markdown",
   "metadata": {},
   "source": [
    "#### Random Forest"
   ]
  },
  {
   "cell_type": "code",
   "execution_count": 157,
   "metadata": {
    "collapsed": false
   },
   "outputs": [
    {
     "name": "stdout",
     "output_type": "stream",
     "text": [
      "1.96146813022\n",
      "2.29924136164\n",
      "1.56698347899\n",
      "1.93557760805\n",
      "1.58495017823\n"
     ]
    }
   ],
   "source": [
    "from sklearn.ensemble import RandomForestClassifier\n",
    "from sklearn.model_selection import KFold\n",
    "from sklearn.metrics import log_loss\n",
    "\n",
    "kf = KFold(5, random_state=seed, shuffle=True)\n",
    "\n",
    "for fold in kf.split(X):\n",
    "    model = RandomForestClassifier()\n",
    "    model.fit(X[fold[0]], y[fold[0]])\n",
    "    print(log_loss(y[fold[1]], model.predict_proba(X[fold[1]])[:, 1]))"
   ]
  },
  {
   "cell_type": "markdown",
   "metadata": {},
   "source": [
    "#### XGB"
   ]
  },
  {
   "cell_type": "code",
   "execution_count": 158,
   "metadata": {
    "collapsed": false
   },
   "outputs": [
    {
     "name": "stdout",
     "output_type": "stream",
     "text": [
      "0.54340758577\n",
      "0.548671471157\n",
      "0.599998674548\n",
      "0.624211509368\n",
      "0.564514754725\n"
     ]
    }
   ],
   "source": [
    "from xgboost import XGBClassifier\n",
    "from sklearn.model_selection import KFold\n",
    "from sklearn.metrics import log_loss\n",
    "\n",
    "kf = KFold(5, random_state=seed, shuffle=True)\n",
    "\n",
    "for fold in kf.split(X):\n",
    "    model = XGBClassifier()\n",
    "    model.fit(X[fold[0]], y[fold[0]])\n",
    "    print(log_loss(y[fold[1]], model.predict_proba(X[fold[1]])[:, 1]))"
   ]
  },
  {
   "cell_type": "markdown",
   "metadata": {},
   "source": [
    "#### Neural Network"
   ]
  },
  {
   "cell_type": "code",
   "execution_count": 222,
   "metadata": {
    "collapsed": false
   },
   "outputs": [
    {
     "name": "stdout",
     "output_type": "stream",
     "text": [
      "32/92 [=========>....................] - ETA: 3s0.47683446899\n"
     ]
    }
   ],
   "source": [
    "from keras.models import Sequential\n",
    "from keras.layers import Dense\n",
    "from keras.layers import Dropout\n",
    "from keras.utils import np_utils\n",
    "from sklearn.model_selection import KFold\n",
    "from sklearn.metrics import log_loss\n",
    "from keras.layers import advanced_activations\n",
    "\n",
    "np.random.seed(seed)\n",
    "\n",
    "kf = KFold(5, random_state=seed, shuffle=True)\n",
    "\n",
    "log_loss_list = []\n",
    "\n",
    "for fold in kf.split(X):\n",
    "    model = Sequential()\n",
    "    model.add(Dense(12, input_dim=5, init='uniform', activation='relu'))\n",
    "    model.add(Dropout(0.3))\n",
    "    model.add(Dense(8, init='uniform', activation='relu'))\n",
    "    model.add(Dense(4, init='uniform', activation='relu'))\n",
    "    model.add(Dropout(0.1))\n",
    "    model.add(Dense(1, init='uniform', activation='sigmoid'))\n",
    "\n",
    "    model.compile(loss='binary_crossentropy', optimizer='adam', metrics=['accuracy'])\n",
    "\n",
    "    model.fit(X[fold[0]], y[fold[0]], nb_epoch=200, batch_size=32, verbose=0)\n",
    "    \n",
    "    log_loss_list.append(log_loss(y[fold[1]], model.predict_proba(X[fold[1]])))\n",
    "    \n",
    "print(np.mean(log_loss_list))"
   ]
  },
  {
   "cell_type": "code",
   "execution_count": 216,
   "metadata": {
    "collapsed": false
   },
   "outputs": [
    {
     "data": {
      "text/plain": [
       "\"\\nmodel = Sequential()\\nmodel.add(Dense(10, input_dim=5, init='uniform', activation='relu'))\\nmodel.add(Dropout(0.1))\\nmodel.add(Dense(8, init='uniform', activation='relu'))\\nmodel.add(Dense(4, init='uniform', activation='relu'))\\nmodel.add(Dense(1, init='uniform', activation='sigmoid'))\\n\\nmodel.compile(loss='binary_crossentropy', optimizer='adam', metrics=['accuracy'\\n\\nscore (log loss): 0.492382452197\\n\\n==========\\n\\nmodel = Sequential()\\nmodel.add(Dense(10, input_dim=5, init='uniform', activation='relu'))\\nmodel.add(Dropout(0.3))\\nmodel.add(Dense(8, init='uniform', activation='relu'))\\nmodel.add(Dense(4, init='uniform', activation='relu'))\\nmodel.add(Dense(1, init='uniform', activation='sigmoid'))\\n\\nmodel.compile(loss='binary_crossentropy', optimizer='adam', metrics=['accuracy'\\n\\nscore (log loss): 0.478460143421\\n\\n==========\\n\\nmodel = Sequential()\\nmodel.add(Dense(15, input_dim=5, init='uniform', activation='relu'))\\nmodel.add(Dropout(0.3))\\nmodel.add(Dense(8, init='uniform', activation='relu'))\\nmodel.add(Dense(4, init='uniform', activation='relu'))\\nmodel.add(Dense(1, init='uniform', activation='sigmoid'))\\n\\nmodel.compile(loss='binary_crossentropy', optimizer='adam', metrics=['accuracy'])\\n\\nmodel.fit(X[fold[0]], y[fold[0]], nb_epoch=200, batch_size=32, verbose=0)\\n\\nscore (log loss): 0.476553021716\\n\\n==========\\n\\n\\n\\n\""
      ]
     },
     "execution_count": 216,
     "metadata": {},
     "output_type": "execute_result"
    }
   ],
   "source": [
    "\"\"\"\n",
    "model = Sequential()\n",
    "model.add(Dense(10, input_dim=5, init='uniform', activation='relu'))\n",
    "model.add(Dropout(0.1))\n",
    "model.add(Dense(8, init='uniform', activation='relu'))\n",
    "model.add(Dense(4, init='uniform', activation='relu'))\n",
    "model.add(Dense(1, init='uniform', activation='sigmoid'))\n",
    "\n",
    "model.compile(loss='binary_crossentropy', optimizer='adam', metrics=['accuracy'\n",
    "\n",
    "score (log loss): 0.492382452197\n",
    "\n",
    "==========\n",
    "\n",
    "model = Sequential()\n",
    "model.add(Dense(10, input_dim=5, init='uniform', activation='relu'))\n",
    "model.add(Dropout(0.3))\n",
    "model.add(Dense(8, init='uniform', activation='relu'))\n",
    "model.add(Dense(4, init='uniform', activation='relu'))\n",
    "model.add(Dense(1, init='uniform', activation='sigmoid'))\n",
    "\n",
    "model.compile(loss='binary_crossentropy', optimizer='adam', metrics=['accuracy'\n",
    "\n",
    "score (log loss): 0.478460143421\n",
    "\n",
    "==========\n",
    "\n",
    "model = Sequential()\n",
    "model.add(Dense(15, input_dim=5, init='uniform', activation='relu'))\n",
    "model.add(Dropout(0.3))\n",
    "model.add(Dense(8, init='uniform', activation='relu'))\n",
    "model.add(Dense(4, init='uniform', activation='relu'))\n",
    "model.add(Dense(1, init='uniform', activation='sigmoid'))\n",
    "\n",
    "model.compile(loss='binary_crossentropy', optimizer='adam', metrics=['accuracy'])\n",
    "\n",
    "model.fit(X[fold[0]], y[fold[0]], nb_epoch=200, batch_size=32, verbose=0)\n",
    "\n",
    "score (log loss): 0.476553021716\n",
    "\n",
    "==========\n",
    "\n",
    "model = Sequential()\n",
    "model.add(Dense(12, input_dim=5, init='uniform', activation='relu'))\n",
    "model.add(Dropout(0.3))\n",
    "model.add(Dense(8, init='uniform', activation='relu'))\n",
    "model.add(Dense(4, init='uniform', activation='relu'))\n",
    "model.add(Dense(1, init='uniform', activation='sigmoid'))\n",
    "\n",
    "model.compile(loss='binary_crossentropy', optimizer='adam', metrics=['accuracy'])\n",
    "\n",
    "model.fit(X[fold[0]], y[fold[0]], nb_epoch=200, batch_size=32, verbose=0)\n",
    "\n",
    "score (log loss): 0.474870848887\n",
    "\n",
    "===========\n",
    "\n",
    "\n",
    "\n",
    "\"\"\""
   ]
  },
  {
   "cell_type": "markdown",
   "metadata": {},
   "source": [
    "## Evaluate the model on test dataset"
   ]
  },
  {
   "cell_type": "code",
   "execution_count": 160,
   "metadata": {
    "collapsed": true
   },
   "outputs": [],
   "source": [
    "X_test, y_test = model_process(df_test, df_tr, num_col)"
   ]
  },
  {
   "cell_type": "code",
   "execution_count": 161,
   "metadata": {
    "collapsed": false
   },
   "outputs": [
    {
     "data": {
      "text/plain": [
       "(116, 5)"
      ]
     },
     "execution_count": 161,
     "metadata": {},
     "output_type": "execute_result"
    }
   ],
   "source": [
    "X_test.shape"
   ]
  },
  {
   "cell_type": "code",
   "execution_count": 162,
   "metadata": {
    "collapsed": false
   },
   "outputs": [],
   "source": [
    "X_test = X_test.values\n",
    "y_test = y_test.values"
   ]
  },
  {
   "cell_type": "markdown",
   "metadata": {},
   "source": [
    "#### Modeling"
   ]
  },
  {
   "cell_type": "code",
   "execution_count": 163,
   "metadata": {
    "collapsed": false
   },
   "outputs": [
    {
     "data": {
      "text/plain": [
       "LogisticRegression(C=1, class_weight=None, dual=False, fit_intercept=True,\n",
       "          intercept_scaling=1, max_iter=200, multi_class='ovr', n_jobs=1,\n",
       "          penalty='l2', random_state=None, solver='liblinear', tol=0.0001,\n",
       "          verbose=0, warm_start=False)"
      ]
     },
     "execution_count": 163,
     "metadata": {},
     "output_type": "execute_result"
    }
   ],
   "source": [
    "from sklearn.linear_model import LogisticRegression\n",
    "\n",
    "model_lr = LogisticRegression(C=1, max_iter=200)\n",
    "model_lr.fit(X, y)"
   ]
  },
  {
   "cell_type": "markdown",
   "metadata": {},
   "source": [
    "#### Neural Network"
   ]
  },
  {
   "cell_type": "code",
   "execution_count": 165,
   "metadata": {
    "collapsed": false
   },
   "outputs": [
    {
     "data": {
      "text/plain": [
       "<keras.callbacks.History at 0x1fa4cc15f98>"
      ]
     },
     "execution_count": 165,
     "metadata": {},
     "output_type": "execute_result"
    }
   ],
   "source": [
    "model_nn = Sequential()\n",
    "model_nn.add(Dense(15, input_dim=5, init='uniform', activation='relu'))\n",
    "model_nn.add(Dropout(0.3))\n",
    "model_nn.add(Dense(8, init='uniform', activation='relu'))\n",
    "model_nn.add(Dense(4, init='uniform', activation='relu'))\n",
    "model_nn.add(Dense(1, init='uniform', activation='sigmoid'))\n",
    "\n",
    "model_nn.compile(loss='binary_crossentropy', optimizer='adam', metrics=['accuracy'])\n",
    "\n",
    "model_nn.fit(X, y, nb_epoch=200, batch_size=32, verbose=0)"
   ]
  },
  {
   "cell_type": "markdown",
   "metadata": {},
   "source": [
    "#### Evaluation"
   ]
  },
  {
   "cell_type": "code",
   "execution_count": 166,
   "metadata": {
    "collapsed": false
   },
   "outputs": [
    {
     "name": "stdout",
     "output_type": "stream",
     "text": [
      "0.501294994721\n",
      "116/116 [==============================] - 1s     \n",
      "0.483984737603\n"
     ]
    }
   ],
   "source": [
    "from sklearn.metrics import log_loss\n",
    "\n",
    "print(log_loss(y_test, model_lr.predict_proba(X_test)[:, 1]))\n",
    "print(log_loss(y_test, model_nn.predict_proba(X_test)))"
   ]
  },
  {
   "cell_type": "markdown",
   "metadata": {},
   "source": [
    "## Implement model on the real test dataset"
   ]
  },
  {
   "cell_type": "code",
   "execution_count": 180,
   "metadata": {
    "collapsed": false
   },
   "outputs": [],
   "source": [
    "X_train, y_train = model_process(df, df, num_col)"
   ]
  },
  {
   "cell_type": "code",
   "execution_count": 181,
   "metadata": {
    "collapsed": false
   },
   "outputs": [
    {
     "name": "stdout",
     "output_type": "stream",
     "text": [
      "(576, 5)\n"
     ]
    }
   ],
   "source": [
    "print(X_train.shape)"
   ]
  },
  {
   "cell_type": "code",
   "execution_count": 182,
   "metadata": {
    "collapsed": false
   },
   "outputs": [],
   "source": [
    "X_train = X_train.values\n",
    "y_train = y_train.values"
   ]
  },
  {
   "cell_type": "markdown",
   "metadata": {},
   "source": [
    "#### Building model"
   ]
  },
  {
   "cell_type": "code",
   "execution_count": 223,
   "metadata": {
    "collapsed": false
   },
   "outputs": [
    {
     "data": {
      "text/plain": [
       "<keras.callbacks.History at 0x1fa71beff60>"
      ]
     },
     "execution_count": 223,
     "metadata": {},
     "output_type": "execute_result"
    }
   ],
   "source": [
    "model = Sequential()\n",
    "model.add(Dense(12, input_dim=5, init='uniform', activation='relu'))\n",
    "model.add(Dropout(0.3))\n",
    "model.add(Dense(8, init='uniform', activation='relu'))\n",
    "model.add(Dense(4, init='uniform', activation='relu'))\n",
    "model.add(Dense(1, init='uniform', activation='sigmoid'))\n",
    "\n",
    "model.compile(loss='binary_crossentropy', optimizer='adam', metrics=['accuracy'])\n",
    "\n",
    "model.fit(X, y, nb_epoch=200, batch_size=32, verbose=0)"
   ]
  },
  {
   "cell_type": "markdown",
   "metadata": {},
   "source": [
    "#### Load data"
   ]
  },
  {
   "cell_type": "code",
   "execution_count": 224,
   "metadata": {
    "collapsed": true
   },
   "outputs": [],
   "source": [
    "df_real_test = pd.read_csv('D:/Dataset/Side_project_Predict_blood_donations/test.csv')"
   ]
  },
  {
   "cell_type": "code",
   "execution_count": 225,
   "metadata": {
    "collapsed": true
   },
   "outputs": [],
   "source": [
    "def model_process(df, df_tr, num_col=[]):\n",
    "    \n",
    "    ### Donation cycle\n",
    "    df['Donation_cycle'] = df['Number of Donations']/df['Months since First Donation']\n",
    "    df_tr['Donation_cycle'] = df_tr['Number of Donations']/df_tr['Months since First Donation']\n",
    "    \n",
    "    ### Donation period\n",
    "    df['Donation_period'] = df['Months since First Donation'] - df['Months since Last Donation']\n",
    "    df_tr['Donation_period'] = df_tr['Months since First Donation'] - df_tr['Months since Last Donation']\n",
    "    \n",
    "    ###\n",
    "    X = df.ix[:, num_col]\n",
    "    X = pd.concat([X, df['Donation_cycle']], axis=1)\n",
    "    X = pd.concat([X, df['Donation_period']], axis=1)\n",
    "    col = list(X.columns)\n",
    "    \n",
    "    X_tr = df_tr.ix[:, num_col]\n",
    "    X_tr = pd.concat([X_tr, df_tr['Donation_cycle']], axis=1)\n",
    "    X_tr = pd.concat([X_tr, df_tr['Donation_period']], axis=1)\n",
    "    \n",
    "    ### Normalization\n",
    "    from sklearn.preprocessing import StandardScaler\n",
    "    scaler = StandardScaler()\n",
    "    scaler.fit(X_tr)\n",
    "    X = scaler.transform(X)\n",
    "    X = pd.DataFrame(X, columns=col)\n",
    "    \n",
    "    #y = df['Made Donation in March 2007']\n",
    "    \n",
    "    return X"
   ]
  },
  {
   "cell_type": "code",
   "execution_count": 226,
   "metadata": {
    "collapsed": true
   },
   "outputs": [],
   "source": [
    "X_real_test = model_process(df_real_test, df, num_col)"
   ]
  },
  {
   "cell_type": "code",
   "execution_count": 227,
   "metadata": {
    "collapsed": false
   },
   "outputs": [
    {
     "name": "stdout",
     "output_type": "stream",
     "text": [
      "(200, 5)\n"
     ]
    }
   ],
   "source": [
    "print(X_real_test.shape)"
   ]
  },
  {
   "cell_type": "code",
   "execution_count": 228,
   "metadata": {
    "collapsed": true
   },
   "outputs": [],
   "source": [
    "X_real_test = X_real_test.values"
   ]
  },
  {
   "cell_type": "code",
   "execution_count": 229,
   "metadata": {
    "collapsed": false
   },
   "outputs": [
    {
     "name": "stdout",
     "output_type": "stream",
     "text": [
      "192/200 [===========================>..] - ETA: 0s"
     ]
    }
   ],
   "source": [
    "y_pred = model.predict_proba(X_real_test)"
   ]
  },
  {
   "cell_type": "code",
   "execution_count": 230,
   "metadata": {
    "collapsed": false
   },
   "outputs": [
    {
     "data": {
      "text/plain": [
       "0.52463955"
      ]
     },
     "execution_count": 230,
     "metadata": {},
     "output_type": "execute_result"
    }
   ],
   "source": [
    "y_pred.max()"
   ]
  },
  {
   "cell_type": "code",
   "execution_count": 231,
   "metadata": {
    "collapsed": true
   },
   "outputs": [],
   "source": [
    "submission = pd.read_csv('D:/Dataset/Side_project_Predict_blood_donations/BloodDonationSubmissionFormat.csv')"
   ]
  },
  {
   "cell_type": "code",
   "execution_count": 232,
   "metadata": {
    "collapsed": false
   },
   "outputs": [
    {
     "data": {
      "text/html": [
       "<div>\n",
       "<table border=\"1\" class=\"dataframe\">\n",
       "  <thead>\n",
       "    <tr style=\"text-align: right;\">\n",
       "      <th></th>\n",
       "      <th>Unnamed: 0</th>\n",
       "      <th>Made Donation in March 2007</th>\n",
       "    </tr>\n",
       "  </thead>\n",
       "  <tbody>\n",
       "    <tr>\n",
       "      <th>0</th>\n",
       "      <td>659</td>\n",
       "      <td>0.5</td>\n",
       "    </tr>\n",
       "    <tr>\n",
       "      <th>1</th>\n",
       "      <td>276</td>\n",
       "      <td>0.5</td>\n",
       "    </tr>\n",
       "    <tr>\n",
       "      <th>2</th>\n",
       "      <td>263</td>\n",
       "      <td>0.5</td>\n",
       "    </tr>\n",
       "    <tr>\n",
       "      <th>3</th>\n",
       "      <td>303</td>\n",
       "      <td>0.5</td>\n",
       "    </tr>\n",
       "    <tr>\n",
       "      <th>4</th>\n",
       "      <td>83</td>\n",
       "      <td>0.5</td>\n",
       "    </tr>\n",
       "  </tbody>\n",
       "</table>\n",
       "</div>"
      ],
      "text/plain": [
       "   Unnamed: 0  Made Donation in March 2007\n",
       "0         659                          0.5\n",
       "1         276                          0.5\n",
       "2         263                          0.5\n",
       "3         303                          0.5\n",
       "4          83                          0.5"
      ]
     },
     "execution_count": 232,
     "metadata": {},
     "output_type": "execute_result"
    }
   ],
   "source": [
    "submission.head()"
   ]
  },
  {
   "cell_type": "code",
   "execution_count": 233,
   "metadata": {
    "collapsed": true
   },
   "outputs": [],
   "source": [
    "submission['Made Donation in March 2007'] = y_pred"
   ]
  },
  {
   "cell_type": "code",
   "execution_count": 234,
   "metadata": {
    "collapsed": true
   },
   "outputs": [],
   "source": [
    "submission.columns = ['', 'Made Donation in March 2007']"
   ]
  },
  {
   "cell_type": "code",
   "execution_count": 235,
   "metadata": {
    "collapsed": true
   },
   "outputs": [],
   "source": [
    "submission.to_csv('D:/Dataset/Side_project_Predict_blood_donations/submission.csv', index=False, index_label=False)"
   ]
  }
 ],
 "metadata": {
  "anaconda-cloud": {},
  "kernelspec": {
   "display_name": "Python 3",
   "language": "python",
   "name": "python3"
  },
  "language_info": {
   "codemirror_mode": {
    "name": "ipython",
    "version": 3
   },
   "file_extension": ".py",
   "mimetype": "text/x-python",
   "name": "python",
   "nbconvert_exporter": "python",
   "pygments_lexer": "ipython3",
   "version": "3.5.2"
  }
 },
 "nbformat": 4,
 "nbformat_minor": 2
}
